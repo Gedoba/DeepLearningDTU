{
 "cells": [
  {
   "cell_type": "code",
   "execution_count": null,
   "metadata": {},
   "outputs": [],
   "source": [
    "import glob\n",
    "import numpy as np\n",
    "from PIL import Image\n",
    "import matplotlib.pyplot as plt\n",
    "import torch\n",
    "device = torch.device(\"cuda\" if torch.cuda.is_available() else \"cpu\")\n",
    "\n",
    "from importlib import reload\n",
    "import loss\n",
    "import data_generator\n",
    "import model\n",
    "import train\n",
    "import visualize\n",
    "reload(loss)\n",
    "reload(visualize)\n",
    "reload(model)\n",
    "reload(data_generator)\n",
    "reload(train)\n",
    "\n",
    "from data_generator import make_dataloaders\n",
    "from model import MainModel\n",
    "from train import train_model, load_model, build_res_unet, pretrain_generator\n",
    "from background_detection import load_processed_images"
   ]
  },
  {
   "cell_type": "code",
   "execution_count": null,
   "metadata": {},
   "outputs": [],
   "source": [
    "COLOR_SPACE = 'Lab' # Lab or HSL or YCbCr\n",
    "path = \"./data/part1\"\n",
    "l1loss = \"SmoothL1Loss\" # SmoothL1Loss or L1Loss\n",
    "model_path = f\"./models/model_pretrained_noBG_part1_{COLOR_SPACE}_{l1loss}.pt\"\n",
    "paths = load_processed_images('./background_scores/filtered_part1')\n",
    "np.random.seed(123)\n",
    "paths_subset = np.random.choice(paths, 7500, replace=False) # choosing 1000 images randomly\n",
    "rand_idxs = np.random.permutation(7500)\n",
    "train_idxs = rand_idxs[:6000] # choosing the first 800 as training set\n",
    "val_idxs = rand_idxs[1500:] # choosing last 200 as validation set\n",
    "train_paths = paths_subset[train_idxs]\n",
    "val_paths = paths_subset[val_idxs]\n",
    "print(len(train_paths), len(val_paths))"
   ]
  },
  {
   "cell_type": "code",
   "execution_count": null,
   "metadata": {},
   "outputs": [],
   "source": [
    "_, axes = plt.subplots(4, 4, figsize=(10, 10))\n",
    "for ax, img_path in zip(axes.flatten(), train_paths):\n",
    "    ax.imshow(Image.open(img_path))\n",
    "    ax.axis(\"off\")"
   ]
  },
  {
   "cell_type": "code",
   "execution_count": null,
   "metadata": {},
   "outputs": [],
   "source": [
    "train_dl = make_dataloaders(paths=train_paths, split='train', color_space=COLOR_SPACE)\n",
    "val_dl = make_dataloaders(paths=val_paths, split='val', color_space=COLOR_SPACE)\n",
    "\n",
    "data = next(iter(train_dl))\n",
    "known_channels, unknown_channels_ = data['known_channel'], data['unknown_channels']\n",
    "print(known_channels.shape, unknown_channels_.shape)\n",
    "print(len(train_dl), len(val_dl))"
   ]
  },
  {
   "cell_type": "code",
   "execution_count": null,
   "metadata": {},
   "outputs": [],
   "source": [
    "net_G = build_res_unet(n_input=1, n_output=2, size=256)\n",
    "opt = torch.optim.Adam(net_G.parameters(), lr=1e-4)\n",
    "criterion = torch.nn.L1Loss()        \n",
    "pretrain_generator(net_G, train_dl, opt, criterion, 20, device)\n",
    "pretrained_model = f\"res18-unet_noBG_{COLOR_SPACE}.pt\""
   ]
  },
  {
   "cell_type": "code",
   "execution_count": null,
   "metadata": {},
   "outputs": [],
   "source": [
    "torch.save(net_G.state_dict(), pretrained_model)"
   ]
  },
  {
   "cell_type": "code",
   "execution_count": null,
   "metadata": {},
   "outputs": [],
   "source": [
    "net_G = build_res_unet(n_input=1, n_output=2, size=256)\n",
    "net_G.load_state_dict(torch.load(pretrained_model, map_location=device))"
   ]
  },
  {
   "cell_type": "code",
   "execution_count": null,
   "metadata": {},
   "outputs": [],
   "source": [
    "loaded_model = MainModel(net_G=net_G, L1LossType=l1loss)\n",
    "# _, loss_meter_dict = load_model(model_path, loaded_model)\n",
    "# train_model(loaded_model, train_dl, val_dl, COLOR_SPACE, 150, 70, loss_meter_dict=loss_meter_dict, save_path=model_path)\n",
    "train_model(loaded_model, train_dl, val_dl, COLOR_SPACE, 150, 70, save_path=model_path)\n"
   ]
  },
  {
   "cell_type": "code",
   "execution_count": null,
   "metadata": {},
   "outputs": [],
   "source": [
    "from visualize import visualize\n",
    "\n",
    "loaded_model = MainModel(net_G=net_G)\n",
    "_, loss_meter_dict = load_model(model_path, loaded_model)\n",
    "for i, data in enumerate(iter(val_dl)):\n",
    "    visualize(loaded_model, data, COLOR_SPACE, save=False)\n",
    "    if i == 4:\n",
    "        break"
   ]
  }
 ],
 "metadata": {
  "interpreter": {
   "hash": "63fd5069d213b44bf678585dea6b12cceca9941eaf7f819626cde1f2670de90d"
  },
  "kernelspec": {
   "display_name": "Python 3.9.0 64-bit",
   "language": "python",
   "name": "python3"
  },
  "language_info": {
   "codemirror_mode": {
    "name": "ipython",
    "version": 3
   },
   "file_extension": ".py",
   "mimetype": "text/x-python",
   "name": "python",
   "nbconvert_exporter": "python",
   "pygments_lexer": "ipython3",
   "version": "3.9.5"
  },
  "orig_nbformat": 4
 },
 "nbformat": 4,
 "nbformat_minor": 2
}
